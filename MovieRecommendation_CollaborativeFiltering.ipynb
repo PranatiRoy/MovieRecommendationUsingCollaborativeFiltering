{
  "nbformat": 4,
  "nbformat_minor": 0,
  "metadata": {
    "colab": {
      "name": "MovieRecommendation_CollaborativeFiltering.ipynb",
      "provenance": [],
      "collapsed_sections": []
    },
    "kernelspec": {
      "name": "python3",
      "display_name": "Python 3"
    },
    "language_info": {
      "name": "python"
    }
  },
  "cells": [
    {
      "cell_type": "code",
      "metadata": {
        "id": "eCsIIx5-RF2V"
      },
      "source": [
        "#Supressing the warning messages\n",
        "import warnings\n",
        "warnings.filterwarnings('ignore')"
      ],
      "execution_count": null,
      "outputs": []
    },
    {
      "cell_type": "code",
      "metadata": {
        "colab": {
          "base_uri": "https://localhost:8080/"
        },
        "id": "9IzfBei1QL2T",
        "outputId": "a26c12a5-30ce-4398-8ee8-addb984210cf"
      },
      "source": [
        "# Mounting your drive to colab\n",
        "\n",
        "from google.colab import drive\n",
        "drive.mount('/content/drive')"
      ],
      "execution_count": null,
      "outputs": [
        {
          "output_type": "stream",
          "text": [
            "Mounted at /content/drive\n"
          ],
          "name": "stdout"
        }
      ]
    },
    {
      "cell_type": "code",
      "metadata": {
        "id": "rmz0_Lj1QaP9"
      },
      "source": [
        "# unzipping the dataset\n",
        "\n",
        "import zipfile as z\n",
        "zip_ref = z.ZipFile(\"/content/drive/My Drive/the-movies-dataset.zip\", \"r\")\n",
        "zip_ref.extractall(\"/content/\")\n",
        "zip_ref.close()"
      ],
      "execution_count": null,
      "outputs": []
    },
    {
      "cell_type": "markdown",
      "metadata": {
        "id": "gQTJlC70bWID"
      },
      "source": [
        "We will use **Surprise** which is a Python scikit building and analyzing recommender systems that deal with explicit rating data."
      ]
    },
    {
      "cell_type": "code",
      "metadata": {
        "colab": {
          "base_uri": "https://localhost:8080/"
        },
        "id": "BSevDY0DQcLc",
        "outputId": "c614e737-a3b4-4dcb-f08a-67700ea00e2c"
      },
      "source": [
        "!pip install surprise  #installing surprise library"
      ],
      "execution_count": null,
      "outputs": [
        {
          "output_type": "stream",
          "text": [
            "Collecting surprise\n",
            "  Downloading https://files.pythonhosted.org/packages/61/de/e5cba8682201fcf9c3719a6fdda95693468ed061945493dea2dd37c5618b/surprise-0.1-py2.py3-none-any.whl\n",
            "Collecting scikit-surprise\n",
            "\u001b[?25l  Downloading https://files.pythonhosted.org/packages/97/37/5d334adaf5ddd65da99fc65f6507e0e4599d092ba048f4302fe8775619e8/scikit-surprise-1.1.1.tar.gz (11.8MB)\n",
            "\u001b[K     |████████████████████████████████| 11.8MB 7.4MB/s \n",
            "\u001b[?25hRequirement already satisfied: joblib>=0.11 in /usr/local/lib/python3.7/dist-packages (from scikit-surprise->surprise) (1.0.1)\n",
            "Requirement already satisfied: numpy>=1.11.2 in /usr/local/lib/python3.7/dist-packages (from scikit-surprise->surprise) (1.19.5)\n",
            "Requirement already satisfied: scipy>=1.0.0 in /usr/local/lib/python3.7/dist-packages (from scikit-surprise->surprise) (1.4.1)\n",
            "Requirement already satisfied: six>=1.10.0 in /usr/local/lib/python3.7/dist-packages (from scikit-surprise->surprise) (1.15.0)\n",
            "Building wheels for collected packages: scikit-surprise\n",
            "  Building wheel for scikit-surprise (setup.py) ... \u001b[?25l\u001b[?25hdone\n",
            "  Created wheel for scikit-surprise: filename=scikit_surprise-1.1.1-cp37-cp37m-linux_x86_64.whl size=1617530 sha256=4a3d76cb6e5657c7638679e3621012d2d7cad58d2f1456af9777d00185b0f53a\n",
            "  Stored in directory: /root/.cache/pip/wheels/78/9c/3d/41b419c9d2aff5b6e2b4c0fc8d25c538202834058f9ed110d0\n",
            "Successfully built scikit-surprise\n",
            "Installing collected packages: scikit-surprise, surprise\n",
            "Successfully installed scikit-surprise-1.1.1 surprise-0.1\n"
          ],
          "name": "stdout"
        }
      ]
    },
    {
      "cell_type": "markdown",
      "metadata": {
        "id": "OLGGNE5eTYb_"
      },
      "source": [
        "#Importing the Libraries"
      ]
    },
    {
      "cell_type": "code",
      "metadata": {
        "id": "jdrCNSDeRSG9"
      },
      "source": [
        "from surprise import Reader, Dataset, SVD\n",
        "from surprise.model_selection import cross_validate   \n",
        "#The Reader class is used to parse a file containing ratings.\n",
        "reader = Reader()"
      ],
      "execution_count": null,
      "outputs": []
    },
    {
      "cell_type": "code",
      "metadata": {
        "colab": {
          "base_uri": "https://localhost:8080/",
          "height": 200
        },
        "id": "DxX3ud-tRYPt",
        "outputId": "272f23aa-3a56-49d8-aac6-5613e4615a2f"
      },
      "source": [
        "import pandas as pd\n",
        "ratings = pd.read_csv('/content/ratings_small.csv')\n",
        "ratings.head()"
      ],
      "execution_count": null,
      "outputs": [
        {
          "output_type": "execute_result",
          "data": {
            "text/html": [
              "<div>\n",
              "<style scoped>\n",
              "    .dataframe tbody tr th:only-of-type {\n",
              "        vertical-align: middle;\n",
              "    }\n",
              "\n",
              "    .dataframe tbody tr th {\n",
              "        vertical-align: top;\n",
              "    }\n",
              "\n",
              "    .dataframe thead th {\n",
              "        text-align: right;\n",
              "    }\n",
              "</style>\n",
              "<table border=\"1\" class=\"dataframe\">\n",
              "  <thead>\n",
              "    <tr style=\"text-align: right;\">\n",
              "      <th></th>\n",
              "      <th>userId</th>\n",
              "      <th>movieId</th>\n",
              "      <th>rating</th>\n",
              "      <th>timestamp</th>\n",
              "    </tr>\n",
              "  </thead>\n",
              "  <tbody>\n",
              "    <tr>\n",
              "      <th>0</th>\n",
              "      <td>1</td>\n",
              "      <td>31</td>\n",
              "      <td>2.5</td>\n",
              "      <td>1260759144</td>\n",
              "    </tr>\n",
              "    <tr>\n",
              "      <th>1</th>\n",
              "      <td>1</td>\n",
              "      <td>1029</td>\n",
              "      <td>3.0</td>\n",
              "      <td>1260759179</td>\n",
              "    </tr>\n",
              "    <tr>\n",
              "      <th>2</th>\n",
              "      <td>1</td>\n",
              "      <td>1061</td>\n",
              "      <td>3.0</td>\n",
              "      <td>1260759182</td>\n",
              "    </tr>\n",
              "    <tr>\n",
              "      <th>3</th>\n",
              "      <td>1</td>\n",
              "      <td>1129</td>\n",
              "      <td>2.0</td>\n",
              "      <td>1260759185</td>\n",
              "    </tr>\n",
              "    <tr>\n",
              "      <th>4</th>\n",
              "      <td>1</td>\n",
              "      <td>1172</td>\n",
              "      <td>4.0</td>\n",
              "      <td>1260759205</td>\n",
              "    </tr>\n",
              "  </tbody>\n",
              "</table>\n",
              "</div>"
            ],
            "text/plain": [
              "   userId  movieId  rating   timestamp\n",
              "0       1       31     2.5  1260759144\n",
              "1       1     1029     3.0  1260759179\n",
              "2       1     1061     3.0  1260759182\n",
              "3       1     1129     2.0  1260759185\n",
              "4       1     1172     4.0  1260759205"
            ]
          },
          "metadata": {
            "tags": []
          },
          "execution_count": 7
        }
      ]
    },
    {
      "cell_type": "markdown",
      "metadata": {
        "id": "68-DY745UqWn"
      },
      "source": [
        "#Matrix Factorization"
      ]
    },
    {
      "cell_type": "code",
      "metadata": {
        "id": "R7AYu4aLRbog"
      },
      "source": [
        "#Creating a data object telling how to parse data\n",
        "data = Dataset.load_from_df(ratings[['userId', 'movieId', 'rating']], reader)"
      ],
      "execution_count": null,
      "outputs": []
    },
    {
      "cell_type": "code",
      "metadata": {
        "colab": {
          "base_uri": "https://localhost:8080/"
        },
        "id": "Uvdk-JBkRjdW",
        "outputId": "e98deebc-7f4c-4c5a-9907-bb37cbb801b9"
      },
      "source": [
        "#calling the SVD class and create an object of it and doing cross validation on the SVD class algotirhm\n",
        "svd = SVD()\n",
        "\n",
        "#Run a cross validation procedure for a given algorithm, reporting accuracy measures and computation times.\n",
        "#5 means 5 folds.\n",
        "cross_validate(svd, data, measures=['RMSE', 'MAE'],cv=5, verbose=True)"
      ],
      "execution_count": 11,
      "outputs": [
        {
          "output_type": "stream",
          "text": [
            "Evaluating RMSE, MAE of algorithm SVD on 5 split(s).\n",
            "\n",
            "                  Fold 1  Fold 2  Fold 3  Fold 4  Fold 5  Mean    Std     \n",
            "RMSE (testset)    0.9043  0.8920  0.8976  0.8948  0.8979  0.8973  0.0041  \n",
            "MAE (testset)     0.6971  0.6865  0.6907  0.6913  0.6911  0.6913  0.0034  \n",
            "Fit time          4.94    5.10    4.96    5.16    4.97    5.02    0.09    \n",
            "Test time         0.19    0.29    0.28    0.19    0.28    0.25    0.04    \n"
          ],
          "name": "stdout"
        },
        {
          "output_type": "execute_result",
          "data": {
            "text/plain": [
              "{'fit_time': (4.944015979766846,\n",
              "  5.095363140106201,\n",
              "  4.958854675292969,\n",
              "  5.158387899398804,\n",
              "  4.967019081115723),\n",
              " 'test_mae': array([0.69706053, 0.68646728, 0.69066337, 0.69125432, 0.69106968]),\n",
              " 'test_rmse': array([0.90426093, 0.89204333, 0.8975704 , 0.89484094, 0.89789031]),\n",
              " 'test_time': (0.19055747985839844,\n",
              "  0.28804564476013184,\n",
              "  0.2792184352874756,\n",
              "  0.19393110275268555,\n",
              "  0.280078649520874)}"
            ]
          },
          "metadata": {
            "tags": []
          },
          "execution_count": 11
        }
      ]
    },
    {
      "cell_type": "markdown",
      "metadata": {
        "id": "_CQGWpo2UnUl"
      },
      "source": [
        "#Training"
      ]
    },
    {
      "cell_type": "code",
      "metadata": {
        "colab": {
          "base_uri": "https://localhost:8080/"
        },
        "id": "0WzxlS9ZRmkJ",
        "outputId": "58beda6f-f8f6-4fdd-9162-bfc93a27ca35"
      },
      "source": [
        "#Built Model from the whole dataset instead of splitting dataset\n",
        "\n",
        "trainset = data.build_full_trainset()\n",
        "svd.fit(trainset)\n",
        "\n",
        "type(trainset)"
      ],
      "execution_count": 12,
      "outputs": [
        {
          "output_type": "execute_result",
          "data": {
            "text/plain": [
              "surprise.trainset.Trainset"
            ]
          },
          "metadata": {
            "tags": []
          },
          "execution_count": 12
        }
      ]
    },
    {
      "cell_type": "markdown",
      "metadata": {
        "id": "lf5CCfv9UjM2"
      },
      "source": [
        "#Testing"
      ]
    },
    {
      "cell_type": "code",
      "metadata": {
        "id": "8Smuf5nZRvSz",
        "colab": {
          "base_uri": "https://localhost:8080/"
        },
        "outputId": "76c1aabf-af02-4a6a-f970-ae3a9a4b5af7"
      },
      "source": [
        "#Here people no 3 index and movie of 302 index are taken, and it is observed that how the rating should be done on movie by the selected people\n",
        "svd.predict(3, 302)"
      ],
      "execution_count": 13,
      "outputs": [
        {
          "output_type": "execute_result",
          "data": {
            "text/plain": [
              "Prediction(uid=3, iid=302, r_ui=None, est=3.5822118493003012, details={'was_impossible': False})"
            ]
          },
          "metadata": {
            "tags": []
          },
          "execution_count": 13
        }
      ]
    },
    {
      "cell_type": "markdown",
      "metadata": {
        "id": "_XDob20JVI3n"
      },
      "source": [
        "#Hybrid Recommendor"
      ]
    },
    {
      "cell_type": "markdown",
      "metadata": {
        "id": "d3C-1iCNVLZW"
      },
      "source": [
        "Here I combine the desctription based recommendation along with collaborative filtering."
      ]
    },
    {
      "cell_type": "markdown",
      "metadata": {
        "id": "UkDzZ0g_ZhXI"
      },
      "source": [
        "##Description Based Selection"
      ]
    },
    {
      "cell_type": "code",
      "metadata": {
        "id": "liymTYOeVFV8"
      },
      "source": [
        "md = pd.read_csv('/content/movies_metadata.csv')\n"
      ],
      "execution_count": 45,
      "outputs": []
    },
    {
      "cell_type": "code",
      "metadata": {
        "id": "PQYkcWklVqAN"
      },
      "source": [
        "# droping rows by index\n",
        "md = md.drop([19730, 29503, 35587])"
      ],
      "execution_count": 46,
      "outputs": []
    },
    {
      "cell_type": "code",
      "metadata": {
        "colab": {
          "base_uri": "https://localhost:8080/"
        },
        "id": "98WiSsNnVw-l",
        "outputId": "fe864e9c-b306-4c38-da1c-7dc7bdecc6dc"
      },
      "source": [
        "#performing look up opertion on all movies that are present in links_small dataset\n",
        "md['id'] = md['id'].astype('int')\n",
        "smd = md[md['id'].isin(links_small)]\n",
        "smd.shape"
      ],
      "execution_count": 47,
      "outputs": [
        {
          "output_type": "execute_result",
          "data": {
            "text/plain": [
              "(9099, 24)"
            ]
          },
          "metadata": {
            "tags": []
          },
          "execution_count": 47
        }
      ]
    },
    {
      "cell_type": "code",
      "metadata": {
        "id": "WO_LPeYzX_4v"
      },
      "source": [
        "smd = smd.reset_index()\n",
        "titles = smd['title']\n",
        "# finding indices of every title\n",
        "indices = pd.Series(smd.index, index=titles)"
      ],
      "execution_count": 54,
      "outputs": []
    },
    {
      "cell_type": "markdown",
      "metadata": {
        "id": "MlNU7mrgZojE"
      },
      "source": [
        "###Creating a new description column"
      ]
    },
    {
      "cell_type": "code",
      "metadata": {
        "id": "hYd-1k3OYqst"
      },
      "source": [
        "smd['tagline'] = smd['tagline'].fillna(' ')\n",
        "smd['description'] = smd['overview'] + smd['tagline']\n",
        "smd['description'] = smd['description'].fillna(' ')"
      ],
      "execution_count": 66,
      "outputs": []
    },
    {
      "cell_type": "markdown",
      "metadata": {
        "id": "zZt4P725ZsTX"
      },
      "source": [
        "###Creating a Vectorizer"
      ]
    },
    {
      "cell_type": "code",
      "metadata": {
        "id": "CuXDfEyoYyyP"
      },
      "source": [
        "from sklearn.feature_extraction.text import TfidfVectorizer\n",
        "tf = TfidfVectorizer(analyzer='word',min_df=0, stop_words='english')\n",
        "tfidf_matrix = tf.fit_transform(smd['description'])"
      ],
      "execution_count": 67,
      "outputs": []
    },
    {
      "cell_type": "code",
      "metadata": {
        "id": "wC_91BzYYzis"
      },
      "source": [
        "# Cosine similarity\n",
        "from sklearn.metrics.pairwise import cosine_similarity\n",
        "cosine_sim = cosine_similarity(tfidf_matrix, tfidf_matrix)"
      ],
      "execution_count": 68,
      "outputs": []
    },
    {
      "cell_type": "code",
      "metadata": {
        "id": "V7RHf1kxY24m"
      },
      "source": [
        "#Function Creation for description based recommendation\n",
        "def get_recommendations(title):\n",
        "    idx = indices[title]\n",
        "    sim_scores = list(enumerate(cosine_sim[idx]))\n",
        "    sim_scores = sorted(sim_scores, key=lambda x: x[1], reverse=True)#sorts in descending order\n",
        "    sim_scores = sim_scores[1:31]\n",
        "    movie_indices = [i[0] for i in sim_scores]\n",
        "    return titles.iloc[movie_indices]"
      ],
      "execution_count": 79,
      "outputs": []
    },
    {
      "cell_type": "code",
      "metadata": {
        "id": "U19_kO_jWPhO"
      },
      "source": [
        "import numpy as np"
      ],
      "execution_count": 80,
      "outputs": []
    },
    {
      "cell_type": "markdown",
      "metadata": {
        "id": "UUYie7AgaCSn"
      },
      "source": [
        "###Maping and merging data based on id from different dataset"
      ]
    },
    {
      "cell_type": "code",
      "metadata": {
        "id": "93m8emf1ViCT"
      },
      "source": [
        "id_map = pd.read_csv('/content/links_small.csv')[['movieId', 'tmdbId']]\n",
        "id_map['tmdbId'] = id_map['tmdbId'].apply(convert_int)\n",
        "id_map.columns = ['movieId', 'id']\n",
        "id_map = id_map.merge(smd[['title', 'id']], on='id').set_index('title')"
      ],
      "execution_count": 72,
      "outputs": []
    },
    {
      "cell_type": "code",
      "metadata": {
        "id": "1MIk0UYJV75q"
      },
      "source": [
        "#change my index based on 'id' from 'title'\n",
        "indices_map = id_map.set_index('id')"
      ],
      "execution_count": 73,
      "outputs": []
    },
    {
      "cell_type": "code",
      "metadata": {
        "id": "ovAS77K-WV5i"
      },
      "source": [
        "#Function Creation to combine the description based selection as well as collaborative filtering over that.\n",
        "\n",
        "def hybrid(userId, title):\n",
        "    idx = indices[title]\n",
        "    tmdbId = id_map.loc[title]['id']\n",
        "    #print(idx)\n",
        "    movie_id = id_map.loc[title]['movieId']\n",
        "    \n",
        "    sim_scores = list(enumerate(cosine_sim[int(idx)]))\n",
        "    sim_scores = sorted(sim_scores, key=lambda x: x[1], reverse=True)\n",
        "    sim_scores = sim_scores[1:26]\n",
        "    movie_indices = [i[0] for i in sim_scores]\n",
        "    \n",
        "    movies = smd.iloc[movie_indices][['title', 'vote_count', 'vote_average', 'id']]\n",
        "    movies['est'] = movies['id'].apply(lambda x: svd.predict(userId, indices_map.loc[x]['movieId']).est)\n",
        "    movies = movies.sort_values('est', ascending=False)\n",
        "    return movies.head(10)"
      ],
      "execution_count": 84,
      "outputs": []
    },
    {
      "cell_type": "markdown",
      "metadata": {
        "id": "n0JZRz0zbFJd"
      },
      "source": [
        "##Testing"
      ]
    },
    {
      "cell_type": "code",
      "metadata": {
        "colab": {
          "base_uri": "https://localhost:8080/",
          "height": 352
        },
        "id": "KJ4_KU-kWZNW",
        "outputId": "c011f8db-6db3-40a3-cb33-1a239bff13e1"
      },
      "source": [
        "hybrid(1, 'Avatar')"
      ],
      "execution_count": 77,
      "outputs": [
        {
          "output_type": "execute_result",
          "data": {
            "text/html": [
              "<div>\n",
              "<style scoped>\n",
              "    .dataframe tbody tr th:only-of-type {\n",
              "        vertical-align: middle;\n",
              "    }\n",
              "\n",
              "    .dataframe tbody tr th {\n",
              "        vertical-align: top;\n",
              "    }\n",
              "\n",
              "    .dataframe thead th {\n",
              "        text-align: right;\n",
              "    }\n",
              "</style>\n",
              "<table border=\"1\" class=\"dataframe\">\n",
              "  <thead>\n",
              "    <tr style=\"text-align: right;\">\n",
              "      <th></th>\n",
              "      <th>title</th>\n",
              "      <th>vote_count</th>\n",
              "      <th>vote_average</th>\n",
              "      <th>id</th>\n",
              "      <th>est</th>\n",
              "    </tr>\n",
              "  </thead>\n",
              "  <tbody>\n",
              "    <tr>\n",
              "      <th>6105</th>\n",
              "      <td>A Trip to the Moon</td>\n",
              "      <td>314.0</td>\n",
              "      <td>7.9</td>\n",
              "      <td>775</td>\n",
              "      <td>3.162621</td>\n",
              "    </tr>\n",
              "    <tr>\n",
              "      <th>2059</th>\n",
              "      <td>The Matrix</td>\n",
              "      <td>9079.0</td>\n",
              "      <td>7.9</td>\n",
              "      <td>603</td>\n",
              "      <td>3.072750</td>\n",
              "    </tr>\n",
              "    <tr>\n",
              "      <th>975</th>\n",
              "      <td>A Grand Day Out</td>\n",
              "      <td>199.0</td>\n",
              "      <td>7.4</td>\n",
              "      <td>530</td>\n",
              "      <td>3.008423</td>\n",
              "    </tr>\n",
              "    <tr>\n",
              "      <th>3360</th>\n",
              "      <td>The Dish</td>\n",
              "      <td>62.0</td>\n",
              "      <td>6.6</td>\n",
              "      <td>5257</td>\n",
              "      <td>2.925940</td>\n",
              "    </tr>\n",
              "    <tr>\n",
              "      <th>1898</th>\n",
              "      <td>A Simple Plan</td>\n",
              "      <td>191.0</td>\n",
              "      <td>6.9</td>\n",
              "      <td>10223</td>\n",
              "      <td>2.854865</td>\n",
              "    </tr>\n",
              "    <tr>\n",
              "      <th>7460</th>\n",
              "      <td>Green Zone</td>\n",
              "      <td>730.0</td>\n",
              "      <td>6.4</td>\n",
              "      <td>22972</td>\n",
              "      <td>2.812630</td>\n",
              "    </tr>\n",
              "    <tr>\n",
              "      <th>2910</th>\n",
              "      <td>Pandora and the Flying Dutchman</td>\n",
              "      <td>19.0</td>\n",
              "      <td>6.5</td>\n",
              "      <td>38688</td>\n",
              "      <td>2.812011</td>\n",
              "    </tr>\n",
              "    <tr>\n",
              "      <th>3018</th>\n",
              "      <td>Rocketship X-M</td>\n",
              "      <td>15.0</td>\n",
              "      <td>5.1</td>\n",
              "      <td>37744</td>\n",
              "      <td>2.797777</td>\n",
              "    </tr>\n",
              "    <tr>\n",
              "      <th>5044</th>\n",
              "      <td>The Men</td>\n",
              "      <td>18.0</td>\n",
              "      <td>6.5</td>\n",
              "      <td>1882</td>\n",
              "      <td>2.783397</td>\n",
              "    </tr>\n",
              "    <tr>\n",
              "      <th>4506</th>\n",
              "      <td>Tears of the Sun</td>\n",
              "      <td>582.0</td>\n",
              "      <td>6.4</td>\n",
              "      <td>9567</td>\n",
              "      <td>2.741272</td>\n",
              "    </tr>\n",
              "  </tbody>\n",
              "</table>\n",
              "</div>"
            ],
            "text/plain": [
              "                                title  vote_count  ...     id       est\n",
              "6105               A Trip to the Moon       314.0  ...    775  3.162621\n",
              "2059                       The Matrix      9079.0  ...    603  3.072750\n",
              "975                   A Grand Day Out       199.0  ...    530  3.008423\n",
              "3360                         The Dish        62.0  ...   5257  2.925940\n",
              "1898                    A Simple Plan       191.0  ...  10223  2.854865\n",
              "7460                       Green Zone       730.0  ...  22972  2.812630\n",
              "2910  Pandora and the Flying Dutchman        19.0  ...  38688  2.812011\n",
              "3018                   Rocketship X-M        15.0  ...  37744  2.797777\n",
              "5044                          The Men        18.0  ...   1882  2.783397\n",
              "4506                 Tears of the Sun       582.0  ...   9567  2.741272\n",
              "\n",
              "[10 rows x 5 columns]"
            ]
          },
          "metadata": {
            "tags": []
          },
          "execution_count": 77
        }
      ]
    },
    {
      "cell_type": "code",
      "metadata": {
        "colab": {
          "base_uri": "https://localhost:8080/",
          "height": 352
        },
        "id": "Kc7faBEfWbPG",
        "outputId": "7d09237f-8172-4c48-d5f1-49ada2938a6a"
      },
      "source": [
        "hybrid(500, 'Avatar')"
      ],
      "execution_count": 78,
      "outputs": [
        {
          "output_type": "execute_result",
          "data": {
            "text/html": [
              "<div>\n",
              "<style scoped>\n",
              "    .dataframe tbody tr th:only-of-type {\n",
              "        vertical-align: middle;\n",
              "    }\n",
              "\n",
              "    .dataframe tbody tr th {\n",
              "        vertical-align: top;\n",
              "    }\n",
              "\n",
              "    .dataframe thead th {\n",
              "        text-align: right;\n",
              "    }\n",
              "</style>\n",
              "<table border=\"1\" class=\"dataframe\">\n",
              "  <thead>\n",
              "    <tr style=\"text-align: right;\">\n",
              "      <th></th>\n",
              "      <th>title</th>\n",
              "      <th>vote_count</th>\n",
              "      <th>vote_average</th>\n",
              "      <th>id</th>\n",
              "      <th>est</th>\n",
              "    </tr>\n",
              "  </thead>\n",
              "  <tbody>\n",
              "    <tr>\n",
              "      <th>6105</th>\n",
              "      <td>A Trip to the Moon</td>\n",
              "      <td>314.0</td>\n",
              "      <td>7.9</td>\n",
              "      <td>775</td>\n",
              "      <td>3.420215</td>\n",
              "    </tr>\n",
              "    <tr>\n",
              "      <th>975</th>\n",
              "      <td>A Grand Day Out</td>\n",
              "      <td>199.0</td>\n",
              "      <td>7.4</td>\n",
              "      <td>530</td>\n",
              "      <td>3.411042</td>\n",
              "    </tr>\n",
              "    <tr>\n",
              "      <th>1898</th>\n",
              "      <td>A Simple Plan</td>\n",
              "      <td>191.0</td>\n",
              "      <td>6.9</td>\n",
              "      <td>10223</td>\n",
              "      <td>3.273890</td>\n",
              "    </tr>\n",
              "    <tr>\n",
              "      <th>7460</th>\n",
              "      <td>Green Zone</td>\n",
              "      <td>730.0</td>\n",
              "      <td>6.4</td>\n",
              "      <td>22972</td>\n",
              "      <td>3.256048</td>\n",
              "    </tr>\n",
              "    <tr>\n",
              "      <th>5229</th>\n",
              "      <td>Ambush</td>\n",
              "      <td>13.0</td>\n",
              "      <td>6.3</td>\n",
              "      <td>49320</td>\n",
              "      <td>3.209608</td>\n",
              "    </tr>\n",
              "    <tr>\n",
              "      <th>2854</th>\n",
              "      <td>The Hidden</td>\n",
              "      <td>85.0</td>\n",
              "      <td>6.7</td>\n",
              "      <td>12476</td>\n",
              "      <td>3.155200</td>\n",
              "    </tr>\n",
              "    <tr>\n",
              "      <th>4506</th>\n",
              "      <td>Tears of the Sun</td>\n",
              "      <td>582.0</td>\n",
              "      <td>6.4</td>\n",
              "      <td>9567</td>\n",
              "      <td>3.085752</td>\n",
              "    </tr>\n",
              "    <tr>\n",
              "      <th>4328</th>\n",
              "      <td>Dog Soldiers</td>\n",
              "      <td>227.0</td>\n",
              "      <td>6.7</td>\n",
              "      <td>11880</td>\n",
              "      <td>3.021765</td>\n",
              "    </tr>\n",
              "    <tr>\n",
              "      <th>7050</th>\n",
              "      <td>Pride and Glory</td>\n",
              "      <td>243.0</td>\n",
              "      <td>6.3</td>\n",
              "      <td>13150</td>\n",
              "      <td>2.945480</td>\n",
              "    </tr>\n",
              "    <tr>\n",
              "      <th>3927</th>\n",
              "      <td>Birthday Girl</td>\n",
              "      <td>104.0</td>\n",
              "      <td>6.1</td>\n",
              "      <td>2084</td>\n",
              "      <td>2.941077</td>\n",
              "    </tr>\n",
              "  </tbody>\n",
              "</table>\n",
              "</div>"
            ],
            "text/plain": [
              "                   title  vote_count  vote_average     id       est\n",
              "6105  A Trip to the Moon       314.0           7.9    775  3.420215\n",
              "975      A Grand Day Out       199.0           7.4    530  3.411042\n",
              "1898       A Simple Plan       191.0           6.9  10223  3.273890\n",
              "7460          Green Zone       730.0           6.4  22972  3.256048\n",
              "5229              Ambush        13.0           6.3  49320  3.209608\n",
              "2854          The Hidden        85.0           6.7  12476  3.155200\n",
              "4506    Tears of the Sun       582.0           6.4   9567  3.085752\n",
              "4328        Dog Soldiers       227.0           6.7  11880  3.021765\n",
              "7050     Pride and Glory       243.0           6.3  13150  2.945480\n",
              "3927       Birthday Girl       104.0           6.1   2084  2.941077"
            ]
          },
          "metadata": {
            "tags": []
          },
          "execution_count": 78
        }
      ]
    },
    {
      "cell_type": "code",
      "metadata": {
        "id": "DzD1qIFWZXkG"
      },
      "source": [
        ""
      ],
      "execution_count": null,
      "outputs": []
    }
  ]
}